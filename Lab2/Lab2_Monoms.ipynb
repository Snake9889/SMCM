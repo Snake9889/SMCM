{
 "cells": [
  {
   "cell_type": "markdown",
   "metadata": {},
   "source": [
    "### Лаборатоная работа №2. Вячеслав Денисов.\n",
    "#### Мономы. Метод итераций по подоблостям. N = 4."
   ]
  },
  {
   "cell_type": "code",
   "execution_count": 1,
   "metadata": {},
   "outputs": [],
   "source": [
    "import numpy as np\n",
    "from matplotlib import pyplot as plt"
   ]
  },
  {
   "cell_type": "code",
   "execution_count": 2,
   "metadata": {},
   "outputs": [],
   "source": [
    "def cheb_monome(c, x):\n",
    "    return sum([c[i] * (x ** i) for i in range(len(c))])"
   ]
  },
  {
   "cell_type": "code",
   "execution_count": 3,
   "metadata": {},
   "outputs": [],
   "source": [
    "def w_ex(x):\n",
    "    return x ** 2 * (1 - x) ** 2 * np.exp(x)"
   ]
  },
  {
   "cell_type": "code",
   "execution_count": 4,
   "metadata": {},
   "outputs": [],
   "source": [
    "def f(x):\n",
    "    return np.exp(x) * (32 * x + 49 * x ** 2 + 14 * x ** 3 + x ** 4 - 12)"
   ]
  },
  {
   "cell_type": "code",
   "execution_count": 5,
   "metadata": {},
   "outputs": [],
   "source": [
    "def ea(y_by_wex, y):\n",
    "    return max([np.abs(y_by_wex[i] - y[i])\n",
    "                for i in range(len(y))])"
   ]
  },
  {
   "cell_type": "code",
   "execution_count": 6,
   "metadata": {},
   "outputs": [],
   "source": [
    "def er(y_by_wex, y):\n",
    "    return ea(y_by_wex, y)/max(y_by_wex)"
   ]
  },
  {
   "cell_type": "code",
   "execution_count": 7,
   "metadata": {},
   "outputs": [],
   "source": [
    "def mu(A):\n",
    "    return np.linalg.cond(A)"
   ]
  },
  {
   "cell_type": "code",
   "execution_count": 8,
   "metadata": {},
   "outputs": [],
   "source": [
    "def slau(K, c1, j):\n",
    "    N = 4 \n",
    "    h = 1 / 2 / K\n",
    "    kc = pow(h, 4)\n",
    "    b = np.zeros(N + 5)\n",
    "    x_centers = [(i / K + (i + 1) / K) / 2 for i in range(K)]\n",
    "    local_points = np.linspace(-1, 1, N + 3)[1:N + 2]\n",
    "    \n",
    "    # Первая матрица\n",
    "    if j == 0:\n",
    "        A = [[0,0,0,0,24], [0,0,0,0,24], [0,0,0,0,24], [0,0,0,0,24], [0,0,0,0,24], [1,2,3,4,5], [0,0,2,12,36], [1,-1,1,-1,1], [0,1,-2,3,-4]]\n",
    "        for i in range(0,5):\n",
    "            b[i] = kc * f(local_points[i] * h + x_centers[j])\n",
    "        b[5] = c1[0][1] - c1[2][1] + 2 * c1[3][1] - 3 * c1[4][1]\n",
    "        b[6] = 2 * c1[2][1] - 12 * c1[4][1]\n",
    "        b[7] = 0\n",
    "        b[8] = 0\n",
    "    # Центральные матрицы\n",
    "    if j in range (1,K-1):\n",
    "        A = [[0,0,0,0,24], [0,0,0,0,24], [0,0,0,0,24], [0,0,0,0,24], [0,0,0,0,24], [1,-2,3,-4,5], [0,0,2,-12,36], [1,2,3,4,5], [0,0,2,12,36]]\n",
    "        for i in range(0,5):\n",
    "            b[i] = kc * f(local_points[i] * h + x_centers[j])\n",
    "        b[5] = c1[0][j - 1] - c1[2][j - 1] - 2 * c1[3][j - 1] - 3 * c1[4][j - 1]\n",
    "        b[6] = 2 * c1[2][j - 1] - 12 * c1[4][j - 1]\n",
    "        b[7] = c1[0][j + 1] - c1[2][j + 1] + 2 * c1[3][j + 1] - 3 * c1[4][j + 1]\n",
    "        b[8] = 2 * c1[2][j + 1] - 12 * c1[4][j + 1]\n",
    "    # Последняя матрицы\n",
    "    if j == K-1:\n",
    "        A = [[0,0,0,0,24], [0,0,0,0,24], [0,0,0,0,24], [0,0,0,0,24], [0,0,0,0,24], [1,-2,3,-4,5], [0,0,2,-12,36], [1,1,1,1,1], [0,1,2,3,4]]\n",
    "        for i in range(0,5):\n",
    "            b[i] = kc * f(local_points[i] * h + x_centers[j])\n",
    "        b[5] = c1[0][K - 2] - c1[2][K - 2] - 2 * c1[3][K - 2] - 3 * c1[4][K - 2]\n",
    "        b[6] = 2 * c1[2][K - 2] - 12 * c1[4][K - 2]\n",
    "        b[7] = 0\n",
    "        b[8] = 0\n",
    "    \n",
    "    return A, b"
   ]
  },
  {
   "cell_type": "code",
   "execution_count": 9,
   "metadata": {},
   "outputs": [],
   "source": [
    "def max1(c1,c2,K):\n",
    "    N = 4\n",
    "    m = np.abs(c2[0][0] - c1[0][0])\n",
    "    for i in range (0, N + 1):\n",
    "        for j in range (0, K):\n",
    "            if (np.abs(c2[i][j] - c1[i][j]) > m):\n",
    "                m = np.abs(c2[i][j] - c1[i][j])\n",
    "    return m"
   ]
  },
  {
   "cell_type": "code",
   "execution_count": 10,
   "metadata": {},
   "outputs": [],
   "source": [
    "def Iter(K):\n",
    "    N = 4\n",
    "    M = N + 1\n",
    "    Niter = 0\n",
    "    eps = pow(10, -12)\n",
    "    c2 = np.zeros((M, K))\n",
    "    for i in range (0, M):\n",
    "        for j in range (0, K):\n",
    "            c2[i][j] = 0.4\n",
    "    c1 = np.zeros((M, K))\n",
    "    c3 = np.zeros((M, K))\n",
    "    while (max1(c1,c2,K) >= eps):\n",
    "        Niter = Niter + 1\n",
    "        # присваиваем старому решению новое\n",
    "        c1 = np.copy(c2)\n",
    "        # для каждой ячейки\n",
    "        for j in range (0, K):\n",
    "            c3 = c2\n",
    "            #формируем СЛАУ\n",
    "            b = np.zeros(N + 5)\n",
    "            A = np.zeros((N + 5, N + 1))\n",
    "            A, b = slau (K, c3, j)\n",
    "            #решаем её\n",
    "            c = np.zeros(M)\n",
    "            Q, R = np.linalg.qr(A)\n",
    "            c = np.linalg.solve(R, np.dot(Q.transpose(), b)) # Решение системы\n",
    "            for i in range (0, M):\n",
    "                c2[i][j] = c[i]\n",
    "\n",
    "    return c1, c2, Niter"
   ]
  },
  {
   "cell_type": "code",
   "execution_count": 11,
   "metadata": {},
   "outputs": [
    {
     "data": {
      "image/png": "[encoded data removed]",
      "text/plain": [
       "<Figure size 432x288 with 1 Axes>"
      ]
     },
     "metadata": {
      "needs_background": "light"
     },
     "output_type": "display_data"
    },
    {
     "name": "stdout",
     "output_type": "stream",
     "text": [
      "K\tEa\tEa_order\tEr\tEr_order\tNiter\tmu(Ab)\tmu(Ai)\n",
      "\n",
      "5\t0.004675355431703429\t2.887517741641926\t0.04398658862200763\t2.887517741641926\t73\t69.76538572706919\t121.05375486430484\n",
      "\n",
      "10\t0.001134102211929569\t2.043525376036038\t0.01066983851392012\t2.043525376036038\t245\t69.76538572706919\t121.05375486430484\n",
      "\n",
      "20\t0.0002808607863593604\t2.0136235549744486\t0.002642389022633438\t2.0136235549744486\t937\t69.76538572706919\t121.05375486430484\n",
      "\n"
     ]
    }
   ],
   "source": [
    "points_number = 1000\n",
    "logs = [] # Таблица результатов\n",
    "X = [i * 0.001 for i in range(points_number)]\n",
    "# График точного решения\n",
    "y_by_wex = [w_ex(x) for x in X]\n",
    "plt.plot(X, y_by_wex, label='y')\n",
    "N = 4\n",
    "M = N + 1\n",
    "for K in [2, 5, 10, 20]:\n",
    "    h = 0.5/K\n",
    "    x_centers = [(i / K + (i + 1) / K) / 2 for i in range(K)]\n",
    "    c = np.zeros(M * K)\n",
    "    c1 = np.zeros((M, K))\n",
    "    c2 = np.zeros((M, K))\n",
    "    c1, c2, Niter = Iter(K)\n",
    "    for i in range (0, M * K):\n",
    "        c[i] = c2[i % (N + 1)][i // (N + 1)]\n",
    "\n",
    "    y = np.zeros(len(X))\n",
    "    for i in range(len(X)):\n",
    "        interval = i // (points_number // K + 1)\n",
    "        y[i] = cheb_monome(c[interval * (5):((interval + 1) * (5))],  # коэф-ты c для интервала\n",
    "                           (X[i] - x_centers[interval]) / h)  # x относительно центра интервала\n",
    "    \n",
    "    Ab = np.zeros((N + 5, N + 1))\n",
    "    b1 = np.zeros(N + 5)\n",
    "    Ab, b1 = slau(K, c1, 0)\n",
    "    \n",
    "    Ai = np.zeros((N + 5, N + 1))\n",
    "    b2 = np.zeros(N + 5)\n",
    "    Ai, b2 = slau(K, c1, 1)\n",
    "\n",
    "    curr_ea = ea(y_by_wex, y)\n",
    "    curr_er = er(y_by_wex, y)\n",
    "    if (K != 2):\n",
    "        plt.plot(X, y, label=f'y_pred [K={str(K)}]')\n",
    "        logs.append(f\"{K}\\t\"\n",
    "                    f\"{curr_ea}\\t\"\n",
    "                    f\"{np.log2(prev_ea/curr_ea)}\\t\"\n",
    "                    f\"{curr_er}\\t\"\n",
    "                    f\"{np.log2(prev_er/curr_er)}\\t\"\n",
    "                    f\"{Niter}\\t\"\n",
    "                    f\"{mu(Ab)}\\t\"\n",
    "                    f\"{mu(Ai)}\\n\")\n",
    "    prev_ea = curr_ea\n",
    "    prev_er = curr_er\n",
    "plt.legend()\n",
    "plt.show()\n",
    "for line in ['K\\tEa\\tEa_order\\tEr\\tEr_order\\tNiter\\tmu(Ab)\\tmu(Ai)\\n'] + logs: \n",
    "    print(line)"
   ]
  },
  {
   "cell_type": "code",
   "execution_count": null,
   "metadata": {},
   "outputs": [],
   "source": []
  }
 ],
 "metadata": {
  "kernelspec": {
   "display_name": "Python 3 (ipykernel)",
   "language": "python",
   "name": "python3"
  },
  "language_info": {
   "codemirror_mode": {
    "name": "ipython",
    "version": 3
   },
   "file_extension": ".py",
   "mimetype": "text/x-python",
   "name": "python",
   "nbconvert_exporter": "python",
   "pygments_lexer": "ipython3",
   "version": "3.8.11"
  }
 },
 "nbformat": 4,
 "nbformat_minor": 4
}
