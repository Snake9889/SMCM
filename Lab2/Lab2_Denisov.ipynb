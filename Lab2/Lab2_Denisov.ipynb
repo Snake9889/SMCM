{
 "cells": [
  {
   "cell_type": "markdown",
   "metadata": {},
   "source": [
    "### Лаборатоная работа №2. Вячеслав Денисов.\n",
    "#### Полиномы Чебышева. Метод итераций по подоблостям. N = 4."
   ]
  },
  {
   "cell_type": "code",
   "execution_count": 21,
   "metadata": {},
   "outputs": [],
   "source": [
    "import numpy as np\n",
    "from matplotlib import pyplot as plt\n",
    "import sympy as sympy\n",
    "from sympy import diff\n",
    "import time"
   ]
  },
  {
   "cell_type": "markdown",
   "metadata": {},
   "source": [
    "#### Полиномы Чебышева"
   ]
  },
  {
   "cell_type": "code",
   "execution_count": 22,
   "metadata": {},
   "outputs": [],
   "source": [
    "def T(n, x):\n",
    "    if n == 0:\n",
    "        return 1\n",
    "    elif n == 1:\n",
    "        return x\n",
    "    else:\n",
    "        return 2 * x * T(n - 1, x) - T(n - 2, x)\n",
    "    \n",
    "def cheb_polinome(c, x):\n",
    "    return sum([c[i] * T(i, x) for i in range(len(c))])"
   ]
  },
  {
   "cell_type": "markdown",
   "metadata": {},
   "source": [
    "#### Точное решение"
   ]
  },
  {
   "cell_type": "code",
   "execution_count": 23,
   "metadata": {},
   "outputs": [],
   "source": [
    "def w_ex(x):\n",
    "    return x ** 2 * (1 - x) ** 2 * np.exp(x)"
   ]
  },
  {
   "cell_type": "markdown",
   "metadata": {},
   "source": [
    "#### 4-я производная"
   ]
  },
  {
   "cell_type": "code",
   "execution_count": 24,
   "metadata": {},
   "outputs": [],
   "source": [
    "def f(x):\n",
    "    return np.exp(x) * (32 * x + 49 * x ** 2 + 14 * x ** 3 + x ** 4 - 12)"
   ]
  },
  {
   "cell_type": "markdown",
   "metadata": {},
   "source": [
    "#### Абсолютная ошибка"
   ]
  },
  {
   "cell_type": "code",
   "execution_count": 25,
   "metadata": {},
   "outputs": [],
   "source": [
    "def ea(y_by_wex, y):\n",
    "    return max([np.abs(y_by_wex[i] - y[i])\n",
    "                for i in range(len(y))])"
   ]
  },
  {
   "cell_type": "markdown",
   "metadata": {},
   "source": [
    "#### Относительная ошибка"
   ]
  },
  {
   "cell_type": "code",
   "execution_count": 26,
   "metadata": {},
   "outputs": [],
   "source": [
    "def er(y_by_wex, y):\n",
    "    return ea(y_by_wex, y)/max(y_by_wex)"
   ]
  },
  {
   "cell_type": "markdown",
   "metadata": {},
   "source": [
    "#### Число обусловленности"
   ]
  },
  {
   "cell_type": "code",
   "execution_count": 27,
   "metadata": {},
   "outputs": [],
   "source": [
    "def mu(A):\n",
    "    return np.linalg.cond(A)"
   ]
  },
  {
   "cell_type": "code",
   "execution_count": 28,
   "metadata": {},
   "outputs": [],
   "source": [
    "#Chebyshev polynoms and their diff\n",
    "def Chebishev(point, n):\n",
    "    x = sympy.Symbol('x')\n",
    "    v  = sympy.chebyshevt(n, x)\n",
    "    return v.subs(x,point)\n",
    "\n",
    "def Chebishev_dx(point, n):\n",
    "    x = sympy.Symbol('x')\n",
    "    v  = sympy.chebyshevt(n, x)\n",
    "    v = diff(v,x)\n",
    "    return v.subs(x,point)\n",
    "\n",
    "def Chebishev_d2x(point, n):\n",
    "    x = sympy.Symbol('x')\n",
    "    v  = sympy.chebyshevt(n, x)\n",
    "    v = diff(v,x,2)\n",
    "    return v.subs(x,point)   \n",
    "\n",
    "def Chebishev_d3x(point, n):\n",
    "    x = sympy.Symbol('x')\n",
    "    v  = sympy.chebyshevt(n, x)\n",
    "    v = diff(v,x,3)\n",
    "    return v.subs(x,point) \n",
    "\n",
    "def Chebishev_d4x(point, n):\n",
    "    x = sympy.Symbol('x')\n",
    "    v  = sympy.chebyshevt(n, x)\n",
    "    v = diff(v,x,4)\n",
    "    return v.subs(x,point) \n",
    "\n",
    "#D4 of the solution\n",
    "def Func(x_point):\n",
    "    x = sympy.Symbol('x')\n",
    "    f= x**2*(1-x)**2*sympy.exp(x)\n",
    "    f = diff(f,x,4)\n",
    "    #sympy.pprint(dx)\n",
    "    return f.subs(x,x_point) \n",
    "\n",
    "#F of the solution\n",
    "def Acc_Func(x_point):\n",
    "    x = sympy.Symbol('x')\n",
    "    f  = x**2*(1-x)**2*sympy.exp(x)\n",
    "    return f.subs(x,x_point) "
   ]
  },
  {
   "cell_type": "code",
   "execution_count": 29,
   "metadata": {},
   "outputs": [],
   "source": [
    "def coll_dot():\n",
    "    colloc_mas = np.zeros([N+1]) \n",
    "    for m in range (N+1):\n",
    "        colloc_mas[m] = np.cos((2*(m+1)-1)*np.pi/(2*(N+1)))\n",
    "    colloc_mas = np.flipud(colloc_mas)\n",
    "    return colloc_mas"
   ]
  },
  {
   "cell_type": "code",
   "execution_count": 30,
   "metadata": {},
   "outputs": [],
   "source": [
    "#Left c_vector\n",
    "def b_left(m, dots, c_old, h):\n",
    "    b = np.zeros(N+5)\n",
    "    \n",
    "    for j in range(N+1):\n",
    "        for i in range (m):\n",
    "            b[j] = h**4*Func(h*dots[j] + h*(2*i+1))\n",
    "            #print(b[j])\n",
    "            \n",
    "    for j in range (N+1):\n",
    "        b[N+1] = b[N+1] + c_old[j]*(Chebishev(-1,j) + Chebishev_dx(-1,j))\n",
    "        b[N+2] = b[N+2] + c_old[j]*(Chebishev_d2x(-1,j) + Chebishev_d3x(-1,j))\n",
    "    return b\n",
    "\n",
    "def b_mid(m, dots, c_old_1, c_old_2, h):\n",
    "    b = np.zeros(N+5)\n",
    "    \n",
    "    for j in range (N+1):\n",
    "        b[N+1] = b[N+1] + c_old_1[j]*(Chebishev(1,j) - Chebishev_dx(1,j))\n",
    "        \n",
    "        b[N+2] = b[N+2] + c_old_1[j]*(Chebishev_d2x(1,j) - Chebishev_d3x(1,j))\n",
    "    \n",
    "    for j in range(N+1):\n",
    "        for i in range (m):\n",
    "            b[j] = h**4*Func(h*dots[j] + h*(2*i+1))\n",
    "            \n",
    "    for j in range (N+1):\n",
    "        b[N+3] = b[N+3] + c_old_2[j]*(Chebishev(-1,j) + Chebishev_dx(-1,j))\n",
    "        b[N+4] = b[N+4] + c_old_2[j]*(Chebishev_d2x(-1,j) + Chebishev_d3x(-1,j))\n",
    "    return b\n",
    "\n",
    "def b_right(m_from_k, dots, c_old, h):\n",
    "    b = np.zeros(N+5)\n",
    "    \n",
    "    for j in range (N+1):\n",
    "        b[N+1] = b[N+1] + c_old[j]*(Chebishev(1,j) - Chebishev_dx(1,j))\n",
    "        b[N+2] = b[N+2] + c_old[j]*(Chebishev_d2x(1,j) - Chebishev_d3x(1,j))\n",
    "    \n",
    "    for j in range(N+1):\n",
    "        for i in range (m_from_k):\n",
    "            b[j] = h**4*Func(h*dots[j] + h*(2*i+1))\n",
    "    return b"
   ]
  },
  {
   "cell_type": "markdown",
   "metadata": {},
   "source": [
    "#### СЛАУ для ячейки"
   ]
  },
  {
   "cell_type": "code",
   "execution_count": 31,
   "metadata": {},
   "outputs": [],
   "source": [
    "def slau(K, c1, j):\n",
    "    N = 4 \n",
    "    h = 1 / 2 / K\n",
    "    kc = pow(h, 4)\n",
    "    b = np.zeros(N + 5)\n",
    "    x_centers = [(i / K + (i + 1) / K) / 2 for i in range(K)]\n",
    "    #local_points = np.linspace(-1, 1, N + 3)[1:N + 2]\n",
    "    local_points = coll_dot()\n",
    "    \n",
    "    # Первая матрица\n",
    "    if j == 0:\n",
    "        A = [[0,0,0,0,192], [0,0,0,0,192], [0,0,0,0,192], [0,0,0,0,192], [0,0,0,0,192], [1,2,5,10,17], [0,0,4,48,272], [1,-1,1,-1,1], [0,1,-4,9,-16]]\n",
    "        for i in range(0,5):\n",
    "            b[i] = kc * f(local_points[i] * h + x_centers[j])\n",
    "        for i in range (N+1):\n",
    "            b[5] = b[5] + c1[i][1]*(Chebishev(-1,i) + Chebishev_dx(-1,i))\n",
    "            b[6] = b[6] + c1[i][1]*(Chebishev_d2x(-1,i) + Chebishev_d3x(-1,i))\n",
    "            \n",
    "#         b[5] = c1[0][1] + c1[2][1] + 2 * c1[3][1] + 3 * c1[4][1]\n",
    "#         b[6] = 2 * c1[2][1] + 12 * c1[4][1]\n",
    "        b[7] = 0\n",
    "        b[8] = 0\n",
    "    # Центральные матрицы\n",
    "    if j in range (1,K-1):\n",
    "        A = [[0,0,0,0,192], [0,0,0,0,192], [0,0,0,0,192], [0,0,0,0,192], [0,0,0,0,192], [1,-2,5,-10,17], [0,0,4,-48,272], [1,2,5,10,17], [0,0,4,48,272]]\n",
    "        for i in range(0,5):\n",
    "            b[i] = kc * f(local_points[i] * h + x_centers[j])\n",
    "            \n",
    "        for i in range (N+1):\n",
    "            b[5] = b[5] + c1[i][j-1]*(Chebishev(1,i) - Chebishev_dx(1,i))\n",
    "            b[6] = b[6] + c1[i][j-1]*(Chebishev_d2x(1,i) - Chebishev_d3x(1,i))\n",
    "            b[7] = b[7] + c1[i][j+1]*(Chebishev(-1,i) + Chebishev_dx(-1,i))\n",
    "            b[8] = b[8] + c1[i][j+1]*(Chebishev_d2x(-1,i) + Chebishev_d3x(-1,i))\n",
    "#         b[5] = c1[0][j - 1] - c1[2][j - 1] - 2 * c1[3][j - 1] - 3 * c1[4][j - 1]\n",
    "#         b[6] = 2 * c1[2][j - 1] - 12 * c1[4][j - 1]\n",
    "#         b[7] = c1[0][j + 1] - c1[2][j + 1] + 2 * c1[3][j + 1] - 3 * c1[4][j + 1]\n",
    "#         b[8] = 2 * c1[2][j + 1] + 12 * c1[4][j + 1]\n",
    "        \n",
    "    # Последняя матрицы\n",
    "    if j == K-1:\n",
    "        A = [[0,0,0,0,192], [0,0,0,0,192], [0,0,0,0,192], [0,0,0,0,192], [0,0,0,0,192], [1,-2,5,-10,17], [0,0,4,-48,272], [1,1,1,1,1], [0,1,4,9,16]]\n",
    "        for i in range(N+1):\n",
    "            b[i] = kc * f(local_points[i] * h + x_centers[j])\n",
    "        \n",
    "        for i in range (N+1):\n",
    "            b[5] = b[5] + c1[i][K-2]*(Chebishev(1,i) - Chebishev_dx(1,i))\n",
    "            #print(c1[i])\n",
    "            b[6] = b[6] + c1[i][K-2]*(Chebishev_d2x(1,i) - Chebishev_d3x(1,i))\n",
    "        \n",
    "        #b[5] = c1[0][K - 2] - c1[2][K - 2] - 2 * c1[3][K - 2] - 3 * c1[4][K - 2]\n",
    "        #b[6] = 2 * c1[2][K - 2] - 12 * c1[4][K - 2]\n",
    "        b[7] = 0\n",
    "        b[8] = 0\n",
    "    #print(A,b)\n",
    "    return A, b"
   ]
  },
  {
   "cell_type": "markdown",
   "metadata": {},
   "source": [
    "#### max|cn+1-cn|"
   ]
  },
  {
   "cell_type": "code",
   "execution_count": 32,
   "metadata": {},
   "outputs": [],
   "source": [
    "def max1(c1,c2,K):\n",
    "    N = 4\n",
    "    m = np.abs(c2[0][0] - c1[0][0])\n",
    "    for i in range (0, N + 1):\n",
    "        for j in range (0, K):\n",
    "            if (np.abs(c2[i][j] - c1[i][j]) > m):\n",
    "                m = np.abs(c2[i][j] - c1[i][j])\n",
    "    return m"
   ]
  },
  {
   "cell_type": "markdown",
   "metadata": {},
   "source": [
    "#### Итерационный метод"
   ]
  },
  {
   "cell_type": "code",
   "execution_count": 33,
   "metadata": {},
   "outputs": [],
   "source": [
    "def Iter(K):\n",
    "    N = 4\n",
    "    M = N + 1\n",
    "    Niter = 0\n",
    "    eps = pow(10, -12)\n",
    "    c2 = np.zeros((M, K))\n",
    "    for i in range (0, M):\n",
    "        for j in range (0, K):\n",
    "            c2[i][j] = 0.4\n",
    "    c1 = np.zeros((M, K))\n",
    "    c3 = np.zeros((M, K))\n",
    "    while (max1(c1,c2,K) >= eps):\n",
    "        Niter = Niter + 1\n",
    "        # присваиваем старому решению новое\n",
    "        c1 = np.copy(c2)\n",
    "        # для каждой ячейки\n",
    "        for j in range (0, K):\n",
    "            c3 = c2\n",
    "            #формируем СЛАУ\n",
    "            b = np.zeros(N + 5)\n",
    "            A = np.zeros((N + 5, N + 1))\n",
    "            A, b = slau (K, c3, j)\n",
    "            #решаем её\n",
    "            c = np.zeros(M)\n",
    "            Q, R = np.linalg.qr(A)\n",
    "            c = np.linalg.solve(R, np.dot(Q.transpose(), b)) # Решение системы\n",
    "            for i in range (0, M):\n",
    "                c2[i][j] = c[i]\n",
    "\n",
    "    return c1, c2, Niter"
   ]
  },
  {
   "cell_type": "markdown",
   "metadata": {},
   "source": [
    "#### Итоговое решение"
   ]
  },
  {
   "cell_type": "code",
   "execution_count": 34,
   "metadata": {},
   "outputs": [
    {
     "name": "stdout",
     "output_type": "stream",
     "text": [
      "5\n",
      "3.213182210922241\n",
      "10\n",
      "21.861473083496094\n",
      "20\n",
      "173.80900073051453\n",
      "40\n",
      "1426.2890665531158\n",
      "80\n",
      "11800.550029277802\n"
     ]
    },
    {
     "data": {
      "image/png": "[encoded data removed]",
      "text/plain": [
       "<Figure size 432x288 with 1 Axes>"
      ]
     },
     "metadata": {
      "needs_background": "light"
     },
     "output_type": "display_data"
    },
    {
     "name": "stdout",
     "output_type": "stream",
     "text": [
      "K\tEa\tEa_order\tEr\tEr_order\tNiter\tmu(Ab)\tmu(Ai)\n",
      "\n",
      "5\t0.006942745265621858\t-2.0335711153425695\t0.06531860184050953\t-2.0335711153425695\t78\t465.722549148561\t792.909196307232\n",
      "\n",
      "10\t0.0016957636708597873\t2.0335711153425695\t0.015954050997803695\t2.0335711153425695\t261\t465.722549148561\t792.909196307232\n",
      "\n",
      "20\t0.0004209615743323569\t2.0101746693361973\t0.0039604825486142066\t2.0101746693361977\t1004\t465.722549148561\t792.909196307232\n",
      "\n",
      "40\t0.00010505941823761578\t2.0024830483263765\t0.00098841798840559\t2.0024830483263765\t4032\t465.722549148561\t792.909196307232\n",
      "\n",
      "80\t2.624839913949184e-05\t2.0009041585431406\t0.00024694968153777895\t2.0009041585431406\t16144\t465.722549148561\t792.909196307232\n",
      "\n"
     ]
    }
   ],
   "source": [
    "points_number = 1000\n",
    "logs = [] # Таблица результатов\n",
    "X = [i * 0.001 for i in range(points_number)]\n",
    "# График точного решения\n",
    "y_by_wex = [w_ex(x) for x in X]\n",
    "plt.plot(X, y_by_wex, label='y')\n",
    "N = 4\n",
    "M = N + 1\n",
    "for K in [5, 10, 20, 40, 80]:\n",
    "    t0 = time.time()\n",
    "    print(K)\n",
    "    h = 0.5/K\n",
    "    x_centers = [(i / K + (i + 1) / K) / 2 for i in range(K)]\n",
    "    c = np.zeros(M * K)\n",
    "    c1 = np.zeros((M, K))\n",
    "    c2 = np.zeros((M, K))\n",
    "    c1, c2, Niter = Iter(K)\n",
    "    for i in range (0, M * K):\n",
    "        c[i] = c2[i % (N + 1)][i // (N + 1)]\n",
    "\n",
    "    y = np.zeros(len(X))\n",
    "    for i in range(len(X)):\n",
    "        interval = i // (points_number // K + 1)\n",
    "        y[i] = cheb_polinome(c[interval * (5):((interval + 1) * (5))],  # коэф-ты c для интервала\n",
    "                           (X[i] - x_centers[interval]) / h)  # x относительно центра интервала\n",
    "    \n",
    "    Ab = np.zeros((N + 5, N + 1))\n",
    "    b1 = np.zeros(N + 5)\n",
    "    Ab, b1 = slau(K, c1, 0)\n",
    "    \n",
    "    Ai = np.zeros((N + 5, N + 1))\n",
    "    b2 = np.zeros(N + 5)\n",
    "    Ai, b2 = slau(K, c1, 1)\n",
    "\n",
    "    curr_ea = ea(y_by_wex, y)\n",
    "    curr_er = er(y_by_wex, y)\n",
    "    if (K != 2):\n",
    "        plt.plot(X, y, label=f'y_pred [K={str(K)}]')\n",
    "        logs.append(f\"{K}\\t\"\n",
    "                    f\"{curr_ea}\\t\"\n",
    "                    f\"{np.log2(prev_ea/curr_ea)}\\t\"\n",
    "                    f\"{curr_er}\\t\"\n",
    "                    f\"{np.log2(prev_er/curr_er)}\\t\"\n",
    "                    f\"{Niter}\\t\"\n",
    "                    f\"{mu(Ab)}\\t\"\n",
    "                    f\"{mu(Ai)}\\n\")\n",
    "    prev_ea = curr_ea\n",
    "    prev_er = curr_er\n",
    "    t1 = time.time()\n",
    "    print(t1-t0)\n",
    "plt.legend()\n",
    "plt.show()\n",
    "for line in ['K\\tEa\\tEa_order\\tEr\\tEr_order\\tNiter\\tmu(Ab)\\tmu(Ai)\\n'] + logs: \n",
    "    print(line)"
   ]
  },
  {
   "cell_type": "code",
   "execution_count": null,
   "metadata": {},
   "outputs": [],
   "source": []
  },
  {
   "cell_type": "code",
   "execution_count": null,
   "metadata": {},
   "outputs": [],
   "source": []
  },
  {
   "cell_type": "code",
   "execution_count": null,
   "metadata": {},
   "outputs": [],
   "source": []
  }
 ],
 "metadata": {
  "kernelspec": {
   "display_name": "Python 3 (ipykernel)",
   "language": "python",
   "name": "python3"
  },
  "language_info": {
   "codemirror_mode": {
    "name": "ipython",
    "version": 3
   },
   "file_extension": ".py",
   "mimetype": "text/x-python",
   "name": "python",
   "nbconvert_exporter": "python",
   "pygments_lexer": "ipython3",
   "version": "3.8.11"
  }
 },
 "nbformat": 4,
 "nbformat_minor": 4
}
